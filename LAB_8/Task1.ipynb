{
 "cells": [
  {
   "cell_type": "code",
   "execution_count": 1,
   "metadata": {},
   "outputs": [],
   "source": [
    "import pandas as pd\n",
    "import numpy as np\n",
    "import matplotlib.pyplot as plt\n",
    "import seaborn as sns\n",
    "import os\n",
    "import csv\n",
    "\n",
    "data = {\n",
    "'Name': ['Alice', 'Bob', 'Charlie', 'David', 'Eva'],\n",
    "'Age': [20, 21, 22, 20, 23],\n",
    "'Math': [85, 90, 78, 92, 88],\n",
    "'Science': [92, 88, 95, 89, 84],\n",
    "'History': [78, 85, 88, 92, 90]\n",
    "}\n"
   ]
  },
  {
   "cell_type": "markdown",
   "metadata": {},
   "source": [
    "# Converting Data into DataFrame"
   ]
  },
  {
   "cell_type": "code",
   "execution_count": 2,
   "metadata": {},
   "outputs": [
    {
     "data": {
      "text/html": [
       "<div>\n",
       "<style scoped>\n",
       "    .dataframe tbody tr th:only-of-type {\n",
       "        vertical-align: middle;\n",
       "    }\n",
       "\n",
       "    .dataframe tbody tr th {\n",
       "        vertical-align: top;\n",
       "    }\n",
       "\n",
       "    .dataframe thead th {\n",
       "        text-align: right;\n",
       "    }\n",
       "</style>\n",
       "<table border=\"1\" class=\"dataframe\">\n",
       "  <thead>\n",
       "    <tr style=\"text-align: right;\">\n",
       "      <th></th>\n",
       "      <th>Name</th>\n",
       "      <th>Age</th>\n",
       "      <th>Math</th>\n",
       "      <th>Science</th>\n",
       "      <th>History</th>\n",
       "    </tr>\n",
       "  </thead>\n",
       "  <tbody>\n",
       "    <tr>\n",
       "      <th>0</th>\n",
       "      <td>Alice</td>\n",
       "      <td>20</td>\n",
       "      <td>85</td>\n",
       "      <td>92</td>\n",
       "      <td>78</td>\n",
       "    </tr>\n",
       "    <tr>\n",
       "      <th>1</th>\n",
       "      <td>Bob</td>\n",
       "      <td>21</td>\n",
       "      <td>90</td>\n",
       "      <td>88</td>\n",
       "      <td>85</td>\n",
       "    </tr>\n",
       "    <tr>\n",
       "      <th>2</th>\n",
       "      <td>Charlie</td>\n",
       "      <td>22</td>\n",
       "      <td>78</td>\n",
       "      <td>95</td>\n",
       "      <td>88</td>\n",
       "    </tr>\n",
       "    <tr>\n",
       "      <th>3</th>\n",
       "      <td>David</td>\n",
       "      <td>20</td>\n",
       "      <td>92</td>\n",
       "      <td>89</td>\n",
       "      <td>92</td>\n",
       "    </tr>\n",
       "    <tr>\n",
       "      <th>4</th>\n",
       "      <td>Eva</td>\n",
       "      <td>23</td>\n",
       "      <td>88</td>\n",
       "      <td>84</td>\n",
       "      <td>90</td>\n",
       "    </tr>\n",
       "  </tbody>\n",
       "</table>\n",
       "</div>"
      ],
      "text/plain": [
       "      Name  Age  Math  Science  History\n",
       "0    Alice   20    85       92       78\n",
       "1      Bob   21    90       88       85\n",
       "2  Charlie   22    78       95       88\n",
       "3    David   20    92       89       92\n",
       "4      Eva   23    88       84       90"
      ]
     },
     "execution_count": 2,
     "metadata": {},
     "output_type": "execute_result"
    }
   ],
   "source": [
    "df = pd.DataFrame(data)\n",
    "df"
   ]
  },
  {
   "cell_type": "markdown",
   "metadata": {},
   "source": [
    "# Adding New Columns For Subjects Average"
   ]
  },
  {
   "cell_type": "code",
   "execution_count": 3,
   "metadata": {},
   "outputs": [
    {
     "data": {
      "text/html": [
       "<div>\n",
       "<style scoped>\n",
       "    .dataframe tbody tr th:only-of-type {\n",
       "        vertical-align: middle;\n",
       "    }\n",
       "\n",
       "    .dataframe tbody tr th {\n",
       "        vertical-align: top;\n",
       "    }\n",
       "\n",
       "    .dataframe thead th {\n",
       "        text-align: right;\n",
       "    }\n",
       "</style>\n",
       "<table border=\"1\" class=\"dataframe\">\n",
       "  <thead>\n",
       "    <tr style=\"text-align: right;\">\n",
       "      <th></th>\n",
       "      <th>Name</th>\n",
       "      <th>Age</th>\n",
       "      <th>Math</th>\n",
       "      <th>Science</th>\n",
       "      <th>History</th>\n",
       "      <th>Math Average</th>\n",
       "      <th>Science Average</th>\n",
       "      <th>History Average</th>\n",
       "    </tr>\n",
       "  </thead>\n",
       "  <tbody>\n",
       "    <tr>\n",
       "      <th>0</th>\n",
       "      <td>Alice</td>\n",
       "      <td>20</td>\n",
       "      <td>85</td>\n",
       "      <td>92</td>\n",
       "      <td>78</td>\n",
       "      <td>86.6</td>\n",
       "      <td>89.6</td>\n",
       "      <td>86.6</td>\n",
       "    </tr>\n",
       "    <tr>\n",
       "      <th>1</th>\n",
       "      <td>Bob</td>\n",
       "      <td>21</td>\n",
       "      <td>90</td>\n",
       "      <td>88</td>\n",
       "      <td>85</td>\n",
       "      <td>86.6</td>\n",
       "      <td>89.6</td>\n",
       "      <td>86.6</td>\n",
       "    </tr>\n",
       "    <tr>\n",
       "      <th>2</th>\n",
       "      <td>Charlie</td>\n",
       "      <td>22</td>\n",
       "      <td>78</td>\n",
       "      <td>95</td>\n",
       "      <td>88</td>\n",
       "      <td>86.6</td>\n",
       "      <td>89.6</td>\n",
       "      <td>86.6</td>\n",
       "    </tr>\n",
       "    <tr>\n",
       "      <th>3</th>\n",
       "      <td>David</td>\n",
       "      <td>20</td>\n",
       "      <td>92</td>\n",
       "      <td>89</td>\n",
       "      <td>92</td>\n",
       "      <td>86.6</td>\n",
       "      <td>89.6</td>\n",
       "      <td>86.6</td>\n",
       "    </tr>\n",
       "    <tr>\n",
       "      <th>4</th>\n",
       "      <td>Eva</td>\n",
       "      <td>23</td>\n",
       "      <td>88</td>\n",
       "      <td>84</td>\n",
       "      <td>90</td>\n",
       "      <td>86.6</td>\n",
       "      <td>89.6</td>\n",
       "      <td>86.6</td>\n",
       "    </tr>\n",
       "  </tbody>\n",
       "</table>\n",
       "</div>"
      ],
      "text/plain": [
       "      Name  Age  Math  Science  History  Math Average  Science Average  \\\n",
       "0    Alice   20    85       92       78          86.6             89.6   \n",
       "1      Bob   21    90       88       85          86.6             89.6   \n",
       "2  Charlie   22    78       95       88          86.6             89.6   \n",
       "3    David   20    92       89       92          86.6             89.6   \n",
       "4      Eva   23    88       84       90          86.6             89.6   \n",
       "\n",
       "   History Average  \n",
       "0             86.6  \n",
       "1             86.6  \n",
       "2             86.6  \n",
       "3             86.6  \n",
       "4             86.6  "
      ]
     },
     "execution_count": 3,
     "metadata": {},
     "output_type": "execute_result"
    }
   ],
   "source": [
    "df['Math Average'] = df['Math'].mean()\n",
    "df['Science Average'] = df['Science'].mean()\n",
    "df['History Average'] = df['History'].mean()\n",
    "df.head()"
   ]
  },
  {
   "cell_type": "code",
   "execution_count": 4,
   "metadata": {},
   "outputs": [
    {
     "data": {
      "text/html": [
       "<div>\n",
       "<style scoped>\n",
       "    .dataframe tbody tr th:only-of-type {\n",
       "        vertical-align: middle;\n",
       "    }\n",
       "\n",
       "    .dataframe tbody tr th {\n",
       "        vertical-align: top;\n",
       "    }\n",
       "\n",
       "    .dataframe thead th {\n",
       "        text-align: right;\n",
       "    }\n",
       "</style>\n",
       "<table border=\"1\" class=\"dataframe\">\n",
       "  <thead>\n",
       "    <tr style=\"text-align: right;\">\n",
       "      <th></th>\n",
       "      <th>Age</th>\n",
       "      <th>Math</th>\n",
       "      <th>Science</th>\n",
       "      <th>History</th>\n",
       "      <th>Math Average</th>\n",
       "      <th>Science Average</th>\n",
       "      <th>History Average</th>\n",
       "    </tr>\n",
       "  </thead>\n",
       "  <tbody>\n",
       "    <tr>\n",
       "      <th>count</th>\n",
       "      <td>5.00000</td>\n",
       "      <td>5.000000</td>\n",
       "      <td>5.000000</td>\n",
       "      <td>5.000000</td>\n",
       "      <td>5.0</td>\n",
       "      <td>5.0</td>\n",
       "      <td>5.0</td>\n",
       "    </tr>\n",
       "    <tr>\n",
       "      <th>mean</th>\n",
       "      <td>21.20000</td>\n",
       "      <td>86.600000</td>\n",
       "      <td>89.600000</td>\n",
       "      <td>86.600000</td>\n",
       "      <td>86.6</td>\n",
       "      <td>89.6</td>\n",
       "      <td>86.6</td>\n",
       "    </tr>\n",
       "    <tr>\n",
       "      <th>std</th>\n",
       "      <td>1.30384</td>\n",
       "      <td>5.458938</td>\n",
       "      <td>4.159327</td>\n",
       "      <td>5.458938</td>\n",
       "      <td>0.0</td>\n",
       "      <td>0.0</td>\n",
       "      <td>0.0</td>\n",
       "    </tr>\n",
       "    <tr>\n",
       "      <th>min</th>\n",
       "      <td>20.00000</td>\n",
       "      <td>78.000000</td>\n",
       "      <td>84.000000</td>\n",
       "      <td>78.000000</td>\n",
       "      <td>86.6</td>\n",
       "      <td>89.6</td>\n",
       "      <td>86.6</td>\n",
       "    </tr>\n",
       "    <tr>\n",
       "      <th>25%</th>\n",
       "      <td>20.00000</td>\n",
       "      <td>85.000000</td>\n",
       "      <td>88.000000</td>\n",
       "      <td>85.000000</td>\n",
       "      <td>86.6</td>\n",
       "      <td>89.6</td>\n",
       "      <td>86.6</td>\n",
       "    </tr>\n",
       "    <tr>\n",
       "      <th>50%</th>\n",
       "      <td>21.00000</td>\n",
       "      <td>88.000000</td>\n",
       "      <td>89.000000</td>\n",
       "      <td>88.000000</td>\n",
       "      <td>86.6</td>\n",
       "      <td>89.6</td>\n",
       "      <td>86.6</td>\n",
       "    </tr>\n",
       "    <tr>\n",
       "      <th>75%</th>\n",
       "      <td>22.00000</td>\n",
       "      <td>90.000000</td>\n",
       "      <td>92.000000</td>\n",
       "      <td>90.000000</td>\n",
       "      <td>86.6</td>\n",
       "      <td>89.6</td>\n",
       "      <td>86.6</td>\n",
       "    </tr>\n",
       "    <tr>\n",
       "      <th>max</th>\n",
       "      <td>23.00000</td>\n",
       "      <td>92.000000</td>\n",
       "      <td>95.000000</td>\n",
       "      <td>92.000000</td>\n",
       "      <td>86.6</td>\n",
       "      <td>89.6</td>\n",
       "      <td>86.6</td>\n",
       "    </tr>\n",
       "  </tbody>\n",
       "</table>\n",
       "</div>"
      ],
      "text/plain": [
       "            Age       Math    Science    History  Math Average  \\\n",
       "count   5.00000   5.000000   5.000000   5.000000           5.0   \n",
       "mean   21.20000  86.600000  89.600000  86.600000          86.6   \n",
       "std     1.30384   5.458938   4.159327   5.458938           0.0   \n",
       "min    20.00000  78.000000  84.000000  78.000000          86.6   \n",
       "25%    20.00000  85.000000  88.000000  85.000000          86.6   \n",
       "50%    21.00000  88.000000  89.000000  88.000000          86.6   \n",
       "75%    22.00000  90.000000  92.000000  90.000000          86.6   \n",
       "max    23.00000  92.000000  95.000000  92.000000          86.6   \n",
       "\n",
       "       Science Average  History Average  \n",
       "count              5.0              5.0  \n",
       "mean              89.6             86.6  \n",
       "std                0.0              0.0  \n",
       "min               89.6             86.6  \n",
       "25%               89.6             86.6  \n",
       "50%               89.6             86.6  \n",
       "75%               89.6             86.6  \n",
       "max               89.6             86.6  "
      ]
     },
     "execution_count": 4,
     "metadata": {},
     "output_type": "execute_result"
    }
   ],
   "source": [
    "df.describe()"
   ]
  },
  {
   "cell_type": "markdown",
   "metadata": {},
   "source": [
    "# Student with Highest Average Grade"
   ]
  },
  {
   "cell_type": "code",
   "execution_count": 5,
   "metadata": {},
   "outputs": [
    {
     "name": "stdout",
     "output_type": "stream",
     "text": [
      "Student with Highest Average Grades\n"
     ]
    },
    {
     "data": {
      "text/plain": [
       "Name               Alice\n",
       "Age                   20\n",
       "Math                  85\n",
       "Science               92\n",
       "History               78\n",
       "Math Average        86.6\n",
       "Science Average     89.6\n",
       "History Average     86.6\n",
       "Name: 0, dtype: object"
      ]
     },
     "execution_count": 5,
     "metadata": {},
     "output_type": "execute_result"
    }
   ],
   "source": [
    "student_with_highest_avg_grade = df.iloc[df[['Math Average', 'Science Average', 'History Average']].mean(axis=1).idxmax()]\n",
    "print(\"Student with Highest Average Grades\")\n",
    "student_with_highest_avg_grade"
   ]
  },
  {
   "cell_type": "markdown",
   "metadata": {},
   "source": [
    "# Student With Highest Standard Deviation"
   ]
  },
  {
   "cell_type": "code",
   "execution_count": 6,
   "metadata": {},
   "outputs": [
    {
     "name": "stdout",
     "output_type": "stream",
     "text": [
      "STD DEV MATH:  5.458937625582473\n",
      "STD DEV SCIENCE:  4.159326868617084\n",
      "STD DEV HISTORY:  5.458937625582473\n"
     ]
    }
   ],
   "source": [
    "stddevmath = df['Math'].std()\n",
    "stddevscience = df['Science'].std()\n",
    "stddevhistory = df['History'].std()\n",
    "print(\"STD DEV MATH: \", stddevmath)\n",
    "print(\"STD DEV SCIENCE: \", stddevscience)\n",
    "print(\"STD DEV HISTORY: \", stddevhistory)"
   ]
  },
  {
   "cell_type": "code",
   "execution_count": 7,
   "metadata": {},
   "outputs": [
    {
     "data": {
      "text/plain": [
       "{'Highest Average Grade Student': ['Alice', 'Alice', 'Alice'],\n",
       " 'Subject': ['Math', 'Science', 'History'],\n",
       " 'Average Grade': [86.6, 89.6, 86.6],\n",
       " 'Standard Deviation': [5.458937625582473,\n",
       "  4.159326868617084,\n",
       "  5.458937625582473]}"
      ]
     },
     "execution_count": 7,
     "metadata": {},
     "output_type": "execute_result"
    }
   ],
   "source": [
    "final = {\n",
    "    'Highest Average Grade Student': [student_with_highest_avg_grade[\"Name\"], student_with_highest_avg_grade[\"Name\"], student_with_highest_avg_grade[\"Name\"]],\n",
    "    'Subject': ['Math', 'Science', 'History'],\n",
    "    'Average Grade': [\n",
    "        df['Math Average'].mean(),\n",
    "        df['Science Average'].mean(),\n",
    "        df['History Average'].mean()\n",
    "    ],\n",
    "    'Standard Deviation': [stddevmath, stddevscience, stddevhistory]\n",
    "}\n",
    "final"
   ]
  },
  {
   "cell_type": "markdown",
   "metadata": {},
   "source": [
    "# Converting Resultant Final Data into DataFrame"
   ]
  },
  {
   "cell_type": "code",
   "execution_count": 8,
   "metadata": {},
   "outputs": [
    {
     "data": {
      "text/html": [
       "<div>\n",
       "<style scoped>\n",
       "    .dataframe tbody tr th:only-of-type {\n",
       "        vertical-align: middle;\n",
       "    }\n",
       "\n",
       "    .dataframe tbody tr th {\n",
       "        vertical-align: top;\n",
       "    }\n",
       "\n",
       "    .dataframe thead th {\n",
       "        text-align: right;\n",
       "    }\n",
       "</style>\n",
       "<table border=\"1\" class=\"dataframe\">\n",
       "  <thead>\n",
       "    <tr style=\"text-align: right;\">\n",
       "      <th></th>\n",
       "      <th>Highest Average Grade Student</th>\n",
       "      <th>Subject</th>\n",
       "      <th>Average Grade</th>\n",
       "      <th>Standard Deviation</th>\n",
       "    </tr>\n",
       "  </thead>\n",
       "  <tbody>\n",
       "    <tr>\n",
       "      <th>0</th>\n",
       "      <td>Alice</td>\n",
       "      <td>Math</td>\n",
       "      <td>86.6</td>\n",
       "      <td>5.458938</td>\n",
       "    </tr>\n",
       "    <tr>\n",
       "      <th>1</th>\n",
       "      <td>Alice</td>\n",
       "      <td>Science</td>\n",
       "      <td>89.6</td>\n",
       "      <td>4.159327</td>\n",
       "    </tr>\n",
       "    <tr>\n",
       "      <th>2</th>\n",
       "      <td>Alice</td>\n",
       "      <td>History</td>\n",
       "      <td>86.6</td>\n",
       "      <td>5.458938</td>\n",
       "    </tr>\n",
       "  </tbody>\n",
       "</table>\n",
       "</div>"
      ],
      "text/plain": [
       "  Highest Average Grade Student  Subject  Average Grade  Standard Deviation\n",
       "0                         Alice     Math           86.6            5.458938\n",
       "1                         Alice  Science           89.6            4.159327\n",
       "2                         Alice  History           86.6            5.458938"
      ]
     },
     "execution_count": 8,
     "metadata": {},
     "output_type": "execute_result"
    }
   ],
   "source": [
    "result_df = pd.DataFrame(final)\n",
    "result_df"
   ]
  },
  {
   "cell_type": "markdown",
   "metadata": {},
   "source": [
    "# Exporting Data To CSV File Format"
   ]
  },
  {
   "cell_type": "code",
   "execution_count": 9,
   "metadata": {},
   "outputs": [],
   "source": [
    "result_df.to_csv(\"./Student_Data.csv\")"
   ]
  }
 ],
 "metadata": {
  "kernelspec": {
   "display_name": "condaenv",
   "language": "python",
   "name": "python3"
  },
  "language_info": {
   "codemirror_mode": {
    "name": "ipython",
    "version": 3
   },
   "file_extension": ".py",
   "mimetype": "text/x-python",
   "name": "python",
   "nbconvert_exporter": "python",
   "pygments_lexer": "ipython3",
   "version": "3.11.5"
  }
 },
 "nbformat": 4,
 "nbformat_minor": 2
}
