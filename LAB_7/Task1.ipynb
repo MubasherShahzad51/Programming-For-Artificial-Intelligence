{
 "cells": [
  {
   "cell_type": "code",
   "execution_count": 14,
   "metadata": {},
   "outputs": [
    {
     "name": "stdout",
     "output_type": "stream",
     "text": [
      "Average Age: 30.80\n",
      "Most Common Skill: Python (Frequency: 3)\n",
      "Country-wise Skills:\n",
      "USA: Python, JavaScript, SQL, C++, Python, R\n",
      "UK: Java, C#, Python\n",
      "Canada: JavaScript, HTML, CSS\n",
      "Australia: Ruby, Swift, Java\n",
      "Age Groups:\n",
      "20-30: 3\n",
      "31-40: 2\n",
      "41-50: 0\n",
      "51-60: 0\n",
      "61 and above: 0\n"
     ]
    }
   ],
   "source": [
    "import json\n",
    "# data = [{\"name\": \"Alice\", \"age\": 28, \"country\": \"USA\", \"skills\": [\"Python\", \"JavaScript\", \"SQL\"], \"job\":\"Software Engineer\", \"experience_years\": 5},\n",
    "# {\"name\": \"Bob\", \"age\": 35, \"country\": \"UK\", \"skills\": [\"Java\", \"C#\", \"Python\"], \"job\": \"Senior Developer\", \"experience_years\": 10},\n",
    "# {\"name\": \"Charlie\", \"age\": 22, \"country\": \"Canada\", \"skills\": [\"JavaScript\", \"HTML\", \"CSS\"],\"job\": \"Web Developer\", \"experience_years\": 2},\n",
    "# {\"name\": \"Eva\", \"age\": 29, \"country\": \"Australia\", \"skills\": [\"Ruby\", \"Swift\", \"Java\"], \"job\": \"Mobile App Developer\", \"experience_years\": 6},\n",
    "# {\"name\": \"David\", \"age\": 40, \"country\": \"USA\", \"skills\": [\"C++\", \"Python\", \"R\"], \"job\": \"DataScientist\", \"experience_years\": 15}]\n",
    "with open(\"./LAB_7.json\",\"r\") as file:\n",
    "    data = json.load(file)\n",
    "\n",
    "total_age = sum(person[\"age\"] for person in data)\n",
    "average_age = total_age / len(data)\n",
    "print(f\"Average Age: {average_age:.2f}\")\n",
    "\n",
    "skill_counts = {}\n",
    "for person in data:\n",
    "    for skill in person[\"skills\"]:\n",
    "        if skill in skill_counts:\n",
    "            skill_counts[skill] += 1\n",
    "        else:\n",
    "            skill_counts[skill] = 1\n",
    "\n",
    "most_common_skill = max(skill_counts, key=skill_counts.get)\n",
    "skill_frequency = skill_counts[most_common_skill]\n",
    "print(f\"Most Common Skill: {most_common_skill} (Frequency: {skill_frequency})\")\n",
    "\n",
    "country_skills = {}\n",
    "for person in data:\n",
    "    country = person[\"country\"]\n",
    "    skills = person[\"skills\"]\n",
    "    if country in country_skills:\n",
    "        country_skills[country].extend(skills)\n",
    "    else:\n",
    "        country_skills[country] = skills\n",
    "print(\"Country-wise Skills:\")\n",
    "for country, skills in country_skills.items():\n",
    "    print(f\"{country}: {', '.join(skills)}\")\n",
    "\n",
    "age_groups = {\n",
    "    \"20-30\": 0,\n",
    "    \"31-40\": 0,\n",
    "    \"41-50\": 0,\n",
    "    \"51-60\": 0,\n",
    "    \"61 and above\": 0\n",
    "}\n",
    "for person in data:\n",
    "    age = person[\"age\"]\n",
    "    if 20 <= age <= 30:\n",
    "        age_groups[\"20-30\"] += 1\n",
    "    elif 31 <= age <= 40:\n",
    "        age_groups[\"31-40\"] += 1\n",
    "    elif 41 <= age <= 50:\n",
    "        age_groups[\"41-50\"] += 1\n",
    "    elif 51 <= age <= 60:\n",
    "        age_groups[\"51-60\"] += 1\n",
    "    else:\n",
    "        age_groups[\"61 and above\"] += 1\n",
    "print(\"Age Groups:\")\n",
    "for age_group, count in age_groups.items():\n",
    "    print(f\"{age_group}: {count}\")\n"
   ]
  },
  {
   "cell_type": "code",
   "execution_count": null,
   "metadata": {},
   "outputs": [],
   "source": []
  }
 ],
 "metadata": {
  "kernelspec": {
   "display_name": "condaenv",
   "language": "python",
   "name": "python3"
  },
  "language_info": {
   "codemirror_mode": {
    "name": "ipython",
    "version": 3
   },
   "file_extension": ".py",
   "mimetype": "text/x-python",
   "name": "python",
   "nbconvert_exporter": "python",
   "pygments_lexer": "ipython3",
   "version": "3.11.5"
  }
 },
 "nbformat": 4,
 "nbformat_minor": 2
}
