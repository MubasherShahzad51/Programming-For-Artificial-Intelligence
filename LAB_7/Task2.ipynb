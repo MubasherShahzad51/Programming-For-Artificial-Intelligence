{
 "cells": [
  {
   "cell_type": "markdown",
   "metadata": {},
   "source": [
    "# 1. Writing Data To Json Files and Loading Files"
   ]
  },
  {
   "cell_type": "code",
   "execution_count": 18,
   "metadata": {},
   "outputs": [],
   "source": [
    "import json\n",
    "\n",
    "# sales = [{\"month\": \"Jan\", \"sales\": 50000},\n",
    "#          {\"month\": \"Feb\", \"sales\": 55000},\n",
    "#          {\"month\": \"Mar\", \"sales\": 48000},\n",
    "#         ]\n",
    "\n",
    "# expense = [{\"month\": \"Jan\", \"expenses\": 35000},\n",
    "#          {\"month\": \"Feb\", \"expenses\": 38000},\n",
    "#          {\"month\": \"Mar\", \"expenses\": 32000},\n",
    "#         ]\n",
    "\n",
    "# employees = [{\"name\": \"Alice\", \"department\": \"Sales\", \"salary\": 50000},\n",
    "#             {\"name\": \"Bob\", \"department\": \"Marketing\", \"salary\": 48000},\n",
    "#             {\"name\": \"Charlie\", \"department\": \"IT\", \"salary\": 55000},\n",
    "#             ]\n",
    "# with open(\"./sales.json\",\"w\") as file:\n",
    "#     json.dump(sales,file)\n",
    "# with open(\"./expense.json\",\"w\") as file:\n",
    "#     json.dump(expense,file)\n",
    "# with open(\"./employees.json\",\"w\") as file:\n",
    "#     json.dump(employees,file)\n",
    "\n",
    "with open(\"./sales.json\",\"r\") as file:\n",
    "    sales_data = json.load(file)\n",
    "with open(\"./expense.json\",\"r\") as file:\n",
    "    expense_data = json.load(file)\n",
    "with open(\"./employees.json\",\"r\") as file:\n",
    "    employees_data = json.load(file)"
   ]
  },
  {
   "cell_type": "markdown",
   "metadata": {},
   "source": [
    "# Calculating Total Sales Across All Months"
   ]
  },
  {
   "cell_type": "code",
   "execution_count": 19,
   "metadata": {},
   "outputs": [
    {
     "name": "stdout",
     "output_type": "stream",
     "text": [
      "Total Sales: $153000\n"
     ]
    }
   ],
   "source": [
    "total_sales = sum(sale['sales'] for sale in sales_data)\n",
    "print(f\"Total Sales: ${total_sales}\")"
   ]
  },
  {
   "cell_type": "markdown",
   "metadata": {},
   "source": [
    "# Calculating Total Expenses"
   ]
  },
  {
   "cell_type": "code",
   "execution_count": 20,
   "metadata": {},
   "outputs": [
    {
     "name": "stdout",
     "output_type": "stream",
     "text": [
      "Total Expenses: $105000\n"
     ]
    }
   ],
   "source": [
    "total_expenses = sum(expense['expenses'] for expense in expense_data)\n",
    "print(f\"Total Expenses: ${total_expenses}\")"
   ]
  },
  {
   "cell_type": "markdown",
   "metadata": {},
   "source": [
    "# Average Employee Salary:"
   ]
  },
  {
   "cell_type": "code",
   "execution_count": 21,
   "metadata": {},
   "outputs": [
    {
     "name": "stdout",
     "output_type": "stream",
     "text": [
      "Average Employee Salary: $51000.00\n"
     ]
    }
   ],
   "source": [
    "total_salary = sum(employee['salary'] for employee in employees_data)\n",
    "average_salary = total_salary / len(employees_data)\n",
    "print(f\"Average Employee Salary: ${average_salary:.2f}\")"
   ]
  },
  {
   "cell_type": "markdown",
   "metadata": {},
   "source": [
    "# Highest Earning Employee:"
   ]
  },
  {
   "cell_type": "code",
   "execution_count": 22,
   "metadata": {},
   "outputs": [
    {
     "name": "stdout",
     "output_type": "stream",
     "text": [
      "Highest Earning Employee: Charlie\n"
     ]
    }
   ],
   "source": [
    "highest_earning_employee = max(employees_data, key=lambda x: x['salary'])\n",
    "print(f\"Highest Earning Employee: {highest_earning_employee['name']}\")"
   ]
  },
  {
   "cell_type": "markdown",
   "metadata": {},
   "source": [
    "# Profit Calculation:"
   ]
  },
  {
   "cell_type": "code",
   "execution_count": 23,
   "metadata": {},
   "outputs": [
    {
     "name": "stdout",
     "output_type": "stream",
     "text": [
      "Profit for Jan: $15000\n",
      "Profit for Feb: $17000\n",
      "Profit for Mar: $16000\n"
     ]
    }
   ],
   "source": [
    "monthly_profits = []\n",
    "for i in range(len(sales_data)):\n",
    "    month_profit = sales_data[i]['sales'] - expense_data[i]['expenses']\n",
    "    monthly_profits.append((sales_data[i]['month'], month_profit))\n",
    "\n",
    "for month, profit in monthly_profits:\n",
    "    print(f\"Profit for {month}: ${profit}\")"
   ]
  },
  {
   "cell_type": "markdown",
   "metadata": {},
   "source": [
    "# Monthly Profit Trend:"
   ]
  },
  {
   "cell_type": "code",
   "execution_count": 25,
   "metadata": {},
   "outputs": [
    {
     "name": "stdout",
     "output_type": "stream",
     "text": [
      "Month with Highest Profit: Feb ($17000)\n",
      "Month with Lowest Profit: Jan ($15000)\n"
     ]
    }
   ],
   "source": [
    "max_profit_month = max(monthly_profits, key=lambda x: x[1])\n",
    "min_profit_month = min(monthly_profits, key=lambda x: x[1])\n",
    "print(f\"Month with Highest Profit: {max_profit_month[0]} (${max_profit_month[1]})\")\n",
    "print(f\"Month with Lowest Profit: {min_profit_month[0]} (${min_profit_month[1]})\")"
   ]
  },
  {
   "cell_type": "code",
   "execution_count": null,
   "metadata": {},
   "outputs": [],
   "source": []
  }
 ],
 "metadata": {
  "kernelspec": {
   "display_name": "condaenv",
   "language": "python",
   "name": "python3"
  },
  "language_info": {
   "codemirror_mode": {
    "name": "ipython",
    "version": 3
   },
   "file_extension": ".py",
   "mimetype": "text/x-python",
   "name": "python",
   "nbconvert_exporter": "python",
   "pygments_lexer": "ipython3",
   "version": "3.11.5"
  }
 },
 "nbformat": 4,
 "nbformat_minor": 2
}
