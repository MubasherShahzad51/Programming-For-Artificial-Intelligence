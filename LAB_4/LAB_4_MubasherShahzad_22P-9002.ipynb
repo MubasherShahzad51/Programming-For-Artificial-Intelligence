{
 "cells": [
  {
   "cell_type": "markdown",
   "id": "03b28a41",
   "metadata": {},
   "source": [
    "# Generator Functions"
   ]
  },
  {
   "cell_type": "code",
   "execution_count": 4,
   "id": "6f615a88",
   "metadata": {},
   "outputs": [
    {
     "name": "stdout",
     "output_type": "stream",
     "text": [
      "25\n",
      "((1, 'A'), (2, 'B'), (3, 'C'), (4, 'D'))\n",
      "[(1, 'A'), (2, 'B'), (3, 'C'), (4, 'D')]\n",
      "[1, 2, 3, 4, 5, 6]\n",
      "False\n",
      "[1, 4, 9, 16, 25, 36]\n",
      "[1, 4, 9, 16, 25, 36]\n",
      "[1, 2, 3]\n"
     ]
    }
   ],
   "source": [
    "'lambda func takes one argument and one expression to perform'\n",
    "val = lambda val: val*val\n",
    "print(val(5))\n",
    "\n",
    "'we can show it in tuple or list'\n",
    "zipped = zip(range(1,5), \"ABCD\")\n",
    "print(tuple(zipped))\n",
    "\n",
    "'in list form'\n",
    "zipped = zip(range(1,5), \"ABCD\")\n",
    "print(list(zipped))\n",
    "\n",
    "'Map Function Used to map a new value to an existing value'\n",
    "a = [1,2,3,4,5,6]\n",
    "value = 6 in a and 12 in a\n",
    "print(a)\n",
    "print(value)\n",
    "'this line will take square of each elemnt in the list due to map function and already passed function'\n",
    "'through lambda func'\n",
    "print ( list(map(lambda x: x**2, a)))\n",
    "'or through def func'\n",
    "def square(val):\n",
    "    return val * val\n",
    "mapped = map(square, range(1,7))\n",
    "print(list(mapped))\n",
    "'Filter func'\n",
    "mylist= [1,2,3,-1,-2,-3]\n",
    "def positive_number(number):\n",
    "    if number>0:\n",
    "        return number\n",
    "    return False\n",
    "filtered = filter(positive_number,mylist)\n",
    "print(list(filtered))"
   ]
  },
  {
   "cell_type": "markdown",
   "id": "314605e0",
   "metadata": {},
   "source": [
    "# List Manipulation"
   ]
  },
  {
   "cell_type": "code",
   "execution_count": 5,
   "id": "0883cb73",
   "metadata": {},
   "outputs": [
    {
     "name": "stdout",
     "output_type": "stream",
     "text": [
      "['hello', 'congratulations', 'why', 'because']\n"
     ]
    }
   ],
   "source": [
    "stringList = [\"hello\",\"CONGRATULATIONS\",\"wHy\",\"BEcause\"]\n",
    "lowercase = lambda string: string.lower()\n",
    "mapped = list(map(lowercase, stringList))\n",
    "print(mapped)"
   ]
  },
  {
   "cell_type": "code",
   "execution_count": 11,
   "id": "fb1c4a11",
   "metadata": {},
   "outputs": [
    {
     "name": "stdout",
     "output_type": "stream",
     "text": [
      "[(1, 'A'), (2, 'B'), (3, 'C'), (4, 'D')]\n"
     ]
    }
   ],
   "source": [
    "list1 = [1,2,3,4]\n",
    "list2 = [\"A\",\"B\",\"C\",\"D\"]\n",
    "zipped = zip(list1,list2)\n",
    "print(list(zipped))"
   ]
  },
  {
   "cell_type": "markdown",
   "id": "64e411c0",
   "metadata": {},
   "source": [
    "# Task 1"
   ]
  },
  {
   "cell_type": "code",
   "execution_count": 37,
   "id": "ec0b7c27",
   "metadata": {},
   "outputs": [
    {
     "name": "stdout",
     "output_type": "stream",
     "text": [
      "Words that start with 'A': ['Apple', 'Avocado', 'Apricot']\n",
      "Total count: 3\n"
     ]
    }
   ],
   "source": [
    "word_list = [\"Apple\", \"Banana\", \"Avocado\", \"Cherry\", \"Apricot\", \"Grapes\"]\n",
    "\n",
    "'with lambda function'\n",
    "lambfunct= lambda string:string[0]=='A' or string[0]=='a'\n",
    "\n",
    "filtered = filter(lambfunct,word_list)\n",
    "\n",
    "filtered = list(filtered)\n",
    "\n",
    "count = len(list(filtered))\n",
    "\n",
    "print(\"Words that start with 'A':\", filtered)\n",
    "print(\"Total count:\", count)\n",
    "\n",
    "# loop method\n",
    "# a_words = []\n",
    "\n",
    "# for word in word_list:\n",
    "#     if word.startswith('A') or word.startswith('a'):\n",
    "#         a_words.append(word)\n",
    "\n",
    "# total_count = len(a_words)\n",
    "\n",
    "# print(\"Words that start with 'A':\", a_words)\n",
    "# print(\"Total count:\", total_count)\n"
   ]
  },
  {
   "cell_type": "markdown",
   "id": "f97a327f",
   "metadata": {},
   "source": [
    "# Task 2\n"
   ]
  },
  {
   "cell_type": "code",
   "execution_count": 38,
   "id": "2f8da1ae",
   "metadata": {},
   "outputs": [
    {
     "name": "stdout",
     "output_type": "stream",
     "text": [
      "Annual Salaries After Raise: [22000.0, 49500.00000000001, 66000.0, 33000.0, 77000.0, 96800.00000000001]\n",
      "Filtered Salaries (Less than $50,000): [22000.0, 49500.00000000001, 33000.0]\n",
      "Total Budget Required: 104500.0\n"
     ]
    }
   ],
   "source": [
    "employee_salaries = [20000, 45000, 60000, 30000, 70000, 88000]\n",
    "\n",
    "def calculate_annual_salary(salary):\n",
    "    return salary * 1.10\n",
    "\n",
    "annual_salaries_after_raise = list(map(calculate_annual_salary, employee_salaries))\n",
    "\n",
    "filtered_salaries = list(filter(lambda salary: salary < 50000, annual_salaries_after_raise))\n",
    "\n",
    "total_budget_required = sum(filtered_salaries)\n",
    "\n",
    "print(\"Annual Salaries After Raise:\",annual_salaries_after_raise)\n",
    "print(\"Filtered Salaries (Less than $50,000):\", filtered_salaries)\n",
    "print(\"Total Budget Required:\", total_budget_required)"
   ]
  },
  {
   "cell_type": "markdown",
   "id": "2385549c",
   "metadata": {},
   "source": [
    "# Task 3"
   ]
  },
  {
   "cell_type": "code",
   "execution_count": 57,
   "id": "1e904c91",
   "metadata": {},
   "outputs": [
    {
     "name": "stdout",
     "output_type": "stream",
     "text": [
      "[('Milk', datetime.date(2023, 9, 30)), ('Bread', datetime.date(2023, 10, 15)), ('Eggs', datetime.date(2023, 9, 25)), ('Yogurt', datetime.date(2023, 9, 8)), ('Cheese', datetime.date(2023, 10, 10))]\n",
      "Inventory of Unexpired Items:\n",
      "Milk (Expires on 2023-09-30)\n",
      "Bread (Expires on 2023-10-15)\n",
      "Eggs (Expires on 2023-09-25)\n",
      "Cheese (Expires on 2023-10-10)\n"
     ]
    }
   ],
   "source": [
    "from datetime import date\n",
    "\n",
    "items = [\"Milk\", \"Bread\", \"Eggs\", \"Yogurt\", \"Cheese\"]\n",
    "expiration_dates = [\n",
    "    date(2023, 9, 30),\n",
    "    date(2023, 10, 15),\n",
    "    date(2023, 9, 25),\n",
    "    date(2023, 9, 8),\n",
    "    date(2023, 10, 10)\n",
    "]\n",
    "current_date = date.today()\n",
    "items_expiration = list(zip(items, expiration_dates))\n",
    "print(items_expiration)\n",
    "unexpired_items = filter(lambda pair: pair[1] >= current_date, items_expiration)\n",
    "\n",
    "print(\"Inventory of Unexpired Items:\")\n",
    "for item, expiration_date in unexpired_items:\n",
    "    print(f\"{item} (Expires on {expiration_date})\")"
   ]
  },
  {
   "cell_type": "code",
   "execution_count": null,
   "id": "a329186f",
   "metadata": {},
   "outputs": [],
   "source": []
  }
 ],
 "metadata": {
  "kernelspec": {
   "display_name": "Python 3 (ipykernel)",
   "language": "python",
   "name": "python3"
  },
  "language_info": {
   "codemirror_mode": {
    "name": "ipython",
    "version": 3
   },
   "file_extension": ".py",
   "mimetype": "text/x-python",
   "name": "python",
   "nbconvert_exporter": "python",
   "pygments_lexer": "ipython3",
   "version": "3.11.4"
  }
 },
 "nbformat": 4,
 "nbformat_minor": 5
}
