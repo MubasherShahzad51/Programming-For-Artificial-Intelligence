{
 "cells": [
  {
   "cell_type": "markdown",
   "id": "d1151da2",
   "metadata": {},
   "source": [
    "# Lab Tasks are written below under practice questions"
   ]
  },
  {
   "cell_type": "markdown",
   "id": "ae9c9285",
   "metadata": {},
   "source": [
    "# Sets"
   ]
  },
  {
   "cell_type": "code",
   "execution_count": 16,
   "id": "c62684de",
   "metadata": {},
   "outputs": [
    {
     "name": "stdout",
     "output_type": "stream",
     "text": [
      "{1, 2, 3, 4}\n",
      "{'March', 'February', 'April', 'January', 'June'}\n"
     ]
    }
   ],
   "source": [
    "# An unordered collection of data\n",
    "# No duplication allowed\n",
    "my_set={2,3,4,1,2,2,3,4}\n",
    "print(my_set)\n",
    "\n",
    "months = {\"January\", \"February\", \"March\", \"April\", \"June\", \"April\", \"March\"}\n",
    "print(months)"
   ]
  },
  {
   "cell_type": "code",
   "execution_count": 3,
   "id": "ed0e274a",
   "metadata": {},
   "outputs": [
    {
     "name": "stdout",
     "output_type": "stream",
     "text": [
      "<class 'set'>\n"
     ]
    }
   ],
   "source": [
    "# Type\n",
    "my_set = set()\n",
    "print(type(my_set))"
   ]
  },
  {
   "cell_type": "code",
   "execution_count": 9,
   "id": "26108a00",
   "metadata": {},
   "outputs": [
    {
     "name": "stdout",
     "output_type": "stream",
     "text": [
      "{1, 2, 3, 5, 6}\n"
     ]
    }
   ],
   "source": [
    "my_set={1,2,3,4,5,6}\n",
    "# To remove value\n",
    "my_set.discard(4)\n",
    "print(my_set)"
   ]
  },
  {
   "cell_type": "code",
   "execution_count": 14,
   "id": "d4e2ebe5",
   "metadata": {},
   "outputs": [
    {
     "name": "stdout",
     "output_type": "stream",
     "text": [
      "{1, 2, 3, 'A', 'C', 'B'}\n"
     ]
    }
   ],
   "source": [
    "my_set = {1,2,3}\n",
    "my_list = [\"A\", \"B\", \"C\"]\n",
    "my_set.update(my_list)\n",
    "print(my_set)"
   ]
  },
  {
   "cell_type": "code",
   "execution_count": 18,
   "id": "8e6948d9",
   "metadata": {},
   "outputs": [
    {
     "name": "stdout",
     "output_type": "stream",
     "text": [
      "Union of set A & set B is:  {1, 2, 3, 4, 5, 6}\n",
      "Union of set A & set B is:  {1, 2, 3, 4, 5, 6}\n"
     ]
    }
   ],
   "source": [
    "# Union\n",
    "setA = {1,2,3,4}\n",
    "setB = {4,5,6}\n",
    "print(\"Union of set A & set B is: \",setA|setB)\n",
    "print(\"Union of set A & set B is: \",setA.union(setB))"
   ]
  },
  {
   "cell_type": "code",
   "execution_count": 19,
   "id": "6bcb439a",
   "metadata": {},
   "outputs": [
    {
     "name": "stdout",
     "output_type": "stream",
     "text": [
      "Union of set A & set B is:  {4}\n",
      "Union of set A & set B is:  {4}\n"
     ]
    }
   ],
   "source": [
    "# Intersection\n",
    "setA = {1,2,3,4}\n",
    "setB = {4,5,6}\n",
    "print(\"Intersection of set A & set B is: \",setA&setB)\n",
    "print(\"Intersection of set A & set B is: \",setA.intersection(setB))"
   ]
  },
  {
   "cell_type": "code",
   "execution_count": 20,
   "id": "86a36632",
   "metadata": {},
   "outputs": [
    {
     "name": "stdout",
     "output_type": "stream",
     "text": [
      "Union of set A & set B is:  {1, 2, 3}\n",
      "Union of set A & set B is:  {1, 2, 3}\n"
     ]
    }
   ],
   "source": [
    "# Difference\n",
    "setA = {1,2,3,4}\n",
    "setB = {4,5,6}\n",
    "print(\"Union of set A & set B is: \",setA-setB)\n",
    "print(\"Union of set A & set B is: \",setA.difference(setB))"
   ]
  },
  {
   "cell_type": "markdown",
   "id": "32ed4c7c",
   "metadata": {},
   "source": [
    "#  Dictionary\n"
   ]
  },
  {
   "cell_type": "code",
   "execution_count": 21,
   "id": "24aea683",
   "metadata": {},
   "outputs": [
    {
     "name": "stdout",
     "output_type": "stream",
     "text": [
      "{'key1': 'element1', 'Key2': 'element2'}\n"
     ]
    }
   ],
   "source": [
    "my_dict= {\"key1\": \"element1\", \"Key2\": \"element2\"}\n",
    "print(my_dict)"
   ]
  },
  {
   "cell_type": "code",
   "execution_count": 37,
   "id": "466ea8b6",
   "metadata": {},
   "outputs": [
    {
     "name": "stdout",
     "output_type": "stream",
     "text": [
      "Keys:  Name\n",
      "Keys:  Age\n",
      "Keys:  Roll-No\n",
      "Keys:  CGPA\n",
      "Keys:  Grade\n",
      "Keys:  Skills\n",
      "\n",
      "\n",
      "Values:  Ali\n",
      "Values:  22\n",
      "Values:  9002\n",
      "Values:  3.4\n",
      "Values:  A+\n",
      "Values:  ['Web Development', 'ML', 'DL', 'DS']\n",
      "\n",
      "\n",
      "Keys & Values:  Name Ali\n",
      "Keys & Values:  Age 22\n",
      "Keys & Values:  Roll-No 9002\n",
      "Keys & Values:  CGPA 3.4\n",
      "Keys & Values:  Grade A+\n",
      "Keys & Values:  Skills ['Web Development', 'ML', 'DL', 'DS']\n",
      "\n",
      "\n",
      "MY Dictionary: {'Name': 'Ali', 'Age': 22, 'Roll-No': 9002, 'CGPA': 3.4, 'Grade': 'A+', 'Skills': ['Web Development', 'ML', 'DL', 'DS'], 'DOB': '10-05-2000'}\n"
     ]
    }
   ],
   "source": [
    "my_dict = {\"Name\": \"Ali\", \"Age\": 22, \"Roll-No\": 9002, \"CGPA\": 3.4, \"Grade\": \"A+\",\n",
    "           \"Skills\":[\"Web Development\",\"ML\",\"DL\",\"DS\"]}\n",
    "# return keys\n",
    "for k in my_dict.keys():\n",
    "    print(\"Keys: \",k)\n",
    "print(\"\\n\")\n",
    "#  return values    \n",
    "for v in my_dict.values():\n",
    "    print(\"Values: \",v)\n",
    "print(\"\\n\")\n",
    "# return keys values pairs\n",
    "for k,v in my_dict.items():\n",
    "    print(\"Keys & Values: \",k,v)\n",
    "my_dict[\"DOB\"] = \"10-05-2000\"\n",
    "print(\"\\n\")\n",
    "print(\"MY Dictionary:\",my_dict)"
   ]
  },
  {
   "cell_type": "code",
   "execution_count": 39,
   "id": "b477923a",
   "metadata": {},
   "outputs": [
    {
     "name": "stdout",
     "output_type": "stream",
     "text": [
      "Output Updating with dictionary:  {'Name': 'Ali', 'Age': 22, 'Roll-No': 9002, 'CGPA': 3.4, 'Grade': 'A+', 'Skills': ['Web Development', 'ML', 'DL', 'DS'], 'DOB': '10-05-2000', 'city': 'London', 'country': 'England'}\n",
      "\n",
      "\n",
      "{'Name': 'Ali', 'Age': 22, 'Roll-No': 9002, 'CGPA': 3.4, 'Grade': 'A+', 'Skills': ['Web Development', 'ML', 'DL', 'DS'], 'DOB': '10-05-2000', 'country': 'England'}\n",
      "{'Name': 'Ali', 'Age': 22, 'Roll-No': 9002, 'CGPA': 3.4, 'Grade': 'A+', 'Skills': ['Web Development', 'ML', 'DL', 'DS'], 'DOB': '10-05-2000'}\n"
     ]
    }
   ],
   "source": [
    "# updating a dictionary with another dictionary\n",
    "other_dict = {\"city\": \"London\",\"country\":\"England\"}\n",
    "my_dict.update(other_dict)\n",
    "print(\"Output Updating with dictionary: \",my_dict)\n",
    "print(\"\\n\")\n",
    "\n",
    "# Removing\n",
    "remove_keys=[\"city\",\"country\"]\n",
    "for k in remove_keys:\n",
    "    if k in my_dict:\n",
    "        del my_dict[k]\n",
    "        print(my_dict)"
   ]
  },
  {
   "cell_type": "markdown",
   "id": "dde851fd",
   "metadata": {},
   "source": [
    "# Task 1"
   ]
  },
  {
   "cell_type": "code",
   "execution_count": 65,
   "id": "c6f339c7",
   "metadata": {},
   "outputs": [
    {
     "name": "stdout",
     "output_type": "stream",
     "text": [
      "Students who like either Mathematics or Science or both: 45\n",
      "Students who like only Mathematics: 25\n",
      "Students who like only Science: 15\n",
      "\n",
      "\n",
      "Students who like either Mathematics or Science or both: 45\n",
      "Students who like only Mathematics: 25\n",
      "Students who like only Science: 15\n"
     ]
    }
   ],
   "source": [
    "math = set(range(1, 46))  \n",
    "science = set(range(1, 36))       \n",
    "\n",
    "both = set(range(1, 21))  \n",
    "\n",
    "math_or_science = math.union(science)  \n",
    "only_math = math.difference(both)  \n",
    "only_science = science.difference(both) \n",
    "\n",
    "total_students = len(math_or_science)\n",
    "\n",
    "print(\"Students who like either Mathematics or Science or both:\", total_students)\n",
    "print(\"Students who like only Mathematics:\", len(only_math))\n",
    "print(\"Students who like only Science:\", len(only_science))\n",
    "\n",
    "print(\"\\n\")\n",
    "\n",
    "# Another method\n",
    "math = set(range(1, 46))\n",
    "science = set(range(1, 36))\n",
    "both = set(range(1, 21))\n",
    "\n",
    "math_or_science = math | science\n",
    "\n",
    "only_math = math - both\n",
    "\n",
    "only_science = science - both\n",
    "\n",
    "total_students = len(math_or_science)\n",
    "\n",
    "print(\"Students who like either Mathematics or Science or both:\", total_students)\n",
    "print(\"Students who like only Mathematics:\", len(only_math))\n",
    "print(\"Students who like only Science:\", len(only_science))\n"
   ]
  },
  {
   "cell_type": "markdown",
   "id": "c43ac1cf",
   "metadata": {},
   "source": [
    "# Task 2\n"
   ]
  },
  {
   "cell_type": "code",
   "execution_count": 54,
   "id": "e44b5a3d",
   "metadata": {},
   "outputs": [
    {
     "name": "stdout",
     "output_type": "stream",
     "text": [
      "{'hello': 1, 'world': 2, 'this': 1, 'is': 1, 'a': 1, 'simple': 1}\n"
     ]
    }
   ],
   "source": [
    "def word_frequency(sentence):\n",
    "    word_freq = {}\n",
    "\n",
    "    words = sentence.split()\n",
    "\n",
    "    for word in words:\n",
    "        cleaned_word = word.strip('!.,?()').lower()\n",
    "\n",
    "        if cleaned_word in word_freq:\n",
    "            word_freq[cleaned_word] += 1\n",
    "        else:\n",
    "            word_freq[cleaned_word] = 1\n",
    "\n",
    "    return word_freq\n",
    "\n",
    "input_sentence = \"Hello world! This is a simple world.\"\n",
    "result = word_frequency(input_sentence)\n",
    "print(result)\n"
   ]
  },
  {
   "cell_type": "markdown",
   "id": "649a8bb2",
   "metadata": {},
   "source": [
    "# Task 3"
   ]
  },
  {
   "cell_type": "code",
   "execution_count": 1,
   "id": "81604b94",
   "metadata": {},
   "outputs": [
    {
     "name": "stdout",
     "output_type": "stream",
     "text": [
      "Inventory:\n",
      "1: rope\n",
      "6: torch\n",
      "42: gold coin\n",
      "1: dagger\n",
      "12: arrow\n",
      "Total number of items: 62\n"
     ]
    }
   ],
   "source": [
    "def displayInventory(inventory):\n",
    "    print(\"Inventory:\")\n",
    "    total_items = 0\n",
    "    for item, count in inventory.items():\n",
    "        print(f\"{count}: {item}\")\n",
    "        total_items += count\n",
    "    print(\"Total number of items:\", total_items)\n",
    "\n",
    "players_inventory = {'rope': 1, 'torch': 6, 'gold coin': 42, 'dagger': 1, 'arrow': 12}\n",
    "\n",
    "displayInventory(players_inventory)\n"
   ]
  },
  {
   "cell_type": "code",
   "execution_count": null,
   "id": "3b3fde7d",
   "metadata": {},
   "outputs": [],
   "source": []
  }
 ],
 "metadata": {
  "kernelspec": {
   "display_name": "Python 3 (ipykernel)",
   "language": "python",
   "name": "python3"
  },
  "language_info": {
   "codemirror_mode": {
    "name": "ipython",
    "version": 3
   },
   "file_extension": ".py",
   "mimetype": "text/x-python",
   "name": "python",
   "nbconvert_exporter": "python",
   "pygments_lexer": "ipython3",
   "version": "3.11.5"
  }
 },
 "nbformat": 4,
 "nbformat_minor": 5
}
