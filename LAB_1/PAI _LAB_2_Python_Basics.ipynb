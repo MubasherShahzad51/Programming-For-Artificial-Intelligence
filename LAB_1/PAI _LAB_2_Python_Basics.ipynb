{
 "cells": [
  {
   "cell_type": "markdown",
   "metadata": {},
   "source": [
    "<div style=\"text-align:center; font-size:24px; font-weight:bold;\">AL2001-Programming For AI</div>\n",
    "<br>\n",
    "<div style=\"text-align:center; font-size:24px; font-weight:bold;\">Instructor: Muhammad Saad Rashad</div>\n",
    "<br>\n",
    "<div style=\"text-align:center; font-size:18px; font-weight:bold;\">email: saad.rashad@nu.edu.pk</div>\n"
   ]
  },
  {
   "cell_type": "markdown",
   "metadata": {},
   "source": [
    "## **1.Expressions:**\n",
    "* Expressions consist of values (such as 2) and operators (such as +), and they can always evaluate (that is, reduce) down to a  single value. That means you can use expressions anywhere in Python code that you could also use a value"
   ]
  },
  {
   "cell_type": "code",
   "execution_count": 1,
   "metadata": {},
   "outputs": [
    {
     "data": {
      "text/plain": [
       "4"
      ]
     },
     "execution_count": 1,
     "metadata": {},
     "output_type": "execute_result"
    }
   ],
   "source": [
    "2 + 2 #Addition"
   ]
  },
  {
   "cell_type": "code",
   "execution_count": 2,
   "metadata": {},
   "outputs": [
    {
     "data": {
      "text/plain": [
       "-2"
      ]
     },
     "execution_count": 2,
     "metadata": {},
     "output_type": "execute_result"
    }
   ],
   "source": [
    "3 - 5 #Subtraction"
   ]
  },
  {
   "cell_type": "code",
   "execution_count": 3,
   "metadata": {},
   "outputs": [
    {
     "data": {
      "text/plain": [
       "20"
      ]
     },
     "execution_count": 3,
     "metadata": {},
     "output_type": "execute_result"
    }
   ],
   "source": [
    "10 * 2 #Multiplication"
   ]
  },
  {
   "cell_type": "code",
   "execution_count": 4,
   "metadata": {},
   "outputs": [
    {
     "data": {
      "text/plain": [
       "6.0"
      ]
     },
     "execution_count": 4,
     "metadata": {},
     "output_type": "execute_result"
    }
   ],
   "source": [
    "30 / 5 #Division"
   ]
  },
  {
   "cell_type": "code",
   "execution_count": 5,
   "metadata": {},
   "outputs": [
    {
     "data": {
      "text/plain": [
       "0"
      ]
     },
     "execution_count": 5,
     "metadata": {},
     "output_type": "execute_result"
    }
   ],
   "source": [
    "20 % 4 #Remainder"
   ]
  },
  {
   "cell_type": "code",
   "execution_count": 6,
   "metadata": {},
   "outputs": [
    {
     "data": {
      "text/plain": [
       "9"
      ]
     },
     "execution_count": 6,
     "metadata": {},
     "output_type": "execute_result"
    }
   ],
   "source": [
    "3 ** 2 #Exponentiation (3 raised to the power 2)"
   ]
  },
  {
   "cell_type": "code",
   "execution_count": 7,
   "metadata": {},
   "outputs": [
    {
     "data": {
      "text/plain": [
       "25.0"
      ]
     },
     "execution_count": 7,
     "metadata": {},
     "output_type": "execute_result"
    }
   ],
   "source": [
    "(2+3)*(10/2) #A Compound Expression"
   ]
  },
  {
   "cell_type": "markdown",
   "metadata": {},
   "source": [
    "## 2. Variables: \n",
    "|Valid Variables   | Invalid variables   |\n",
    "|------------------|------------|\n",
    "| current_balance  | current-balance (hyphens are not allowed) |\n",
    "| currentBalance   | current balance (spaces are not allowed) |\n",
    "| account4         |4account (can’t begin with a number) |\n",
    "| \\_42             | 42 (can’t begin with a number) |\n",
    "| TOTAL_SUM        | TOTAL\\_$$UM (special characters like dollar signs are not allowed) |\n",
    "| hello            | 'hello' (special characters like ' are not allowed) |\n",
    "| str_literal      | str (built in keywords not allowed)"
   ]
  },
  {
   "cell_type": "markdown",
   "metadata": {},
   "source": [
    "## 3. Data Types: \n",
    "* A data type is a category for values, and every value belongs to exactly one data type e.g Float, int and String. In Python you don't have to explicitly mention the data type. However in cases such as type casting or optimization it becomes a need."
   ]
  },
  {
   "cell_type": "code",
   "execution_count": 9,
   "metadata": {},
   "outputs": [
    {
     "data": {
      "text/plain": [
       "7.2"
      ]
     },
     "execution_count": 9,
     "metadata": {},
     "output_type": "execute_result"
    }
   ],
   "source": [
    "2.3 + 4.9 #An example of float data type"
   ]
  },
  {
   "cell_type": "code",
   "execution_count": 10,
   "metadata": {},
   "outputs": [
    {
     "data": {
      "text/plain": [
       "3300"
      ]
     },
     "execution_count": 10,
     "metadata": {},
     "output_type": "execute_result"
    }
   ],
   "source": [
    "33 * 100 #An example of int Data Type"
   ]
  },
  {
   "cell_type": "code",
   "execution_count": 11,
   "metadata": {},
   "outputs": [
    {
     "data": {
      "text/plain": [
       "'This an example of String Data Type'"
      ]
     },
     "execution_count": 11,
     "metadata": {},
     "output_type": "execute_result"
    }
   ],
   "source": [
    "\"This an example of String Data Type\""
   ]
  },
  {
   "cell_type": "markdown",
   "metadata": {},
   "source": [
    "### 3.1. String Literals:\n",
    "* F-strings, also known as \"formatted string literals,\" are a feature introduced in Python 3.6 that allows you to embed expressions inside string literals, using curly braces {}. These expressions are evaluated at runtime and their values are formatted and inserted into the string."
   ]
  },
  {
   "cell_type": "code",
   "execution_count": 30,
   "metadata": {},
   "outputs": [
    {
     "data": {
      "text/plain": [
       "'This is how you can format a variable with any value e.g 45 into string'"
      ]
     },
     "execution_count": 30,
     "metadata": {},
     "output_type": "execute_result"
    }
   ],
   "source": [
    "variable = 45\n",
    "f\"This is how you can format a variable with any value e.g {variable} into string\""
   ]
  },
  {
   "cell_type": "markdown",
   "metadata": {},
   "source": [
    "## 4. Print Function: \n",
    "* The print() function displays the string value inside its parentheses on the screen."
   ]
  },
  {
   "cell_type": "code",
   "execution_count": 17,
   "metadata": {},
   "outputs": [
    {
     "name": "stdout",
     "output_type": "stream",
     "text": [
      "Hello World\n"
     ]
    }
   ],
   "source": [
    "print('Hello World')"
   ]
  },
  {
   "cell_type": "code",
   "execution_count": 19,
   "metadata": {},
   "outputs": [
    {
     "name": "stdout",
     "output_type": "stream",
     "text": [
      "The size of the room is 15 feet and 12 inches\n"
     ]
    }
   ],
   "source": [
    "feet = 15\n",
    "inches = 12\n",
    "Room_size = f'The size of the room is {feet} feet and {inches} inches'\n",
    "print(Room_size)"
   ]
  },
  {
   "cell_type": "code",
   "execution_count": 22,
   "metadata": {},
   "outputs": [
    {
     "name": "stdout",
     "output_type": "stream",
     "text": [
      "300.000\n"
     ]
    }
   ],
   "source": [
    "length = 20\n",
    "width = 15\n",
    "area_of_triangle = length * width\n",
    "formated = f\"{area_of_triangle:.2f}\"\n",
    "print(formated)"
   ]
  },
  {
   "cell_type": "markdown",
   "metadata": {},
   "source": [
    "## 5. Input Function: \n",
    "* The input() function waits for the user to type some text on the keyboard and press ENTER."
   ]
  },
  {
   "cell_type": "code",
   "execution_count": 24,
   "metadata": {},
   "outputs": [
    {
     "name": "stdout",
     "output_type": "stream",
     "text": [
      "saad\n",
      "The entered name is saad\n"
     ]
    }
   ],
   "source": [
    "name = input()\n",
    "print(f\"The entered name is {name}\")"
   ]
  },
  {
   "cell_type": "markdown",
   "metadata": {},
   "source": [
    "## 6. Length Function: \n",
    "* You can pass the len() function a string value (or a variable containing a string), and the function evaluates to the integer value of the number of characters in that string."
   ]
  },
  {
   "cell_type": "code",
   "execution_count": 1,
   "metadata": {},
   "outputs": [
    {
     "name": "stdout",
     "output_type": "stream",
     "text": [
      "Saad Rashad\n",
      "The entered name is Saad Rashad and the length of the name is 11\n"
     ]
    }
   ],
   "source": [
    "name = input()\n",
    "print(f\"The entered name is {name} and the length of the name is {len(name)}\")"
   ]
  },
  {
   "cell_type": "markdown",
   "metadata": {},
   "source": [
    "## 7. Type Casting:\n",
    "* Type casting, also known as type conversion, in Python refers to the process of changing an object's data type from one type to another"
   ]
  },
  {
   "cell_type": "code",
   "execution_count": 3,
   "metadata": {},
   "outputs": [
    {
     "name": "stdout",
     "output_type": "stream",
     "text": [
      "20\n"
     ]
    }
   ],
   "source": [
    "age = 20\n",
    "type_casting_2_string = str(age)\n",
    "print(type_casting_2_string)\n"
   ]
  },
  {
   "cell_type": "code",
   "execution_count": 4,
   "metadata": {},
   "outputs": [
    {
     "name": "stdout",
     "output_type": "stream",
     "text": [
      "23\n"
     ]
    }
   ],
   "source": [
    "average_age = 23.55\n",
    "type_casting_2_int = int(average_age)\n",
    "print(type_casting_2_int)"
   ]
  },
  {
   "cell_type": "code",
   "execution_count": 5,
   "metadata": {},
   "outputs": [
    {
     "name": "stdout",
     "output_type": "stream",
     "text": [
      "100.0\n"
     ]
    }
   ],
   "source": [
    "percentage = '100'\n",
    "type_casting_2_float = float(percentage)\n",
    "print(type_casting_2_float)"
   ]
  },
  {
   "cell_type": "markdown",
   "metadata": {},
   "source": [
    "## 8. Operators: \n",
    "| Operator Name     | Operator Symbol | Description                                        |\n",
    "|-------------------|-----------------|----------------------------------------------------|\n",
    "| Addition          | `+`             | Adds two operands.                                |\n",
    "| Subtraction       | `-`             | Subtracts the right operand from the left operand. |\n",
    "| Multiplication    | `*`             | Multiplies two operands.                          |\n",
    "| Division          | `/`             | Divides the left operand by the right operand.    |\n",
    "| Floor Division    | `//`            | Performs floor division (removes the decimal part).|\n",
    "| Modulus           | `%`             | Returns the remainder after division.              |\n",
    "| Exponentiation    | `**`            | Raises the left operand to the power of the right. |\n",
    "| Assignment        | `=`             | Assigns a value to a variable.                    |\n",
    "| Equal To          | `==`            | Compares if two values are equal.                  |\n",
    "| Not Equal To      | `!=`            | Compares if two values are not equal.              |\n",
    "| Greater Than      | `>`             | Checks if the left operand is greater than the right.|\n",
    "| Less Than         | `<`             | Checks if the left operand is less than the right. |\n",
    "| Greater or Equal  | `>=`            | Checks if the left operand is greater than or equal to the right.|\n",
    "| Less or Equal     | `<=`            | Checks if the left operand is less than or equal to the right.   |\n",
    "| Logical AND       | `and`           | Returns True if both operands are True.            |\n",
    "| Logical OR        | `or`            | Returns True if at least one operand is True.      |\n",
    "| Logical NOT       | `not`           | Returns the opposite of the operand.               |\n",
    "| Membership (in)   | `in`            | Checks if a value is present in a sequence.        |\n",
    "| Identity (is)     | `is`            | Checks if two objects have the same identity.      |\n",
    "| Bitwise AND       | `&`             | Performs bitwise AND on integer values.           |\n",
    "| Bitwise OR        | `\\|`             | Performs bitwise OR on integer values.            |\n",
    "| Bitwise XOR       | `^`             | Performs bitwise XOR on integer values.           |\n",
    "| Bitwise NOT       | `~`             | Performs bitwise NOT on an integer value.         |\n",
    "| Left Shift        | `<<`            | Shifts the bits of an integer to the left.        |\n",
    "| Right Shift       | `>>`            | Shifts the bits of an integer to the right.       |\n"
   ]
  },
  {
   "cell_type": "markdown",
   "metadata": {},
   "source": [
    "## 9. Control Flow - Branching:\n",
    "* Control flow branching, often simply referred to as \"branching,\" is a fundamental concept in programming that involves making decisions and directing the flow of a program's execution based on certain conditions"
   ]
  },
  {
   "cell_type": "code",
   "execution_count": 14,
   "metadata": {},
   "outputs": [
    {
     "name": "stdout",
     "output_type": "stream",
     "text": [
      "Enter a number for num_1: 33\n",
      "Enter a number for num_2: 12\n",
      "Multiplication Result: 396.0\n"
     ]
    }
   ],
   "source": [
    "num_1 = float(input(\"Enter a number for num_1: \"))\n",
    "num_2 = float(input(\"Enter a number for num_2: \"))\n",
    "answer = 0\n",
    "\n",
    "if num_1 > num_2:\n",
    "    answer = num_1 * num_2\n",
    "    print(\"Multiplication Result:\", answer)\n",
    "else:\n",
    "    answer = num_1 / num_2\n",
    "    print(\"Division Result:\", answer)\n"
   ]
  },
  {
   "cell_type": "code",
   "execution_count": 16,
   "metadata": {},
   "outputs": [
    {
     "name": "stdout",
     "output_type": "stream",
     "text": [
      "Enter a number for num_1: 30\n",
      "Enter a number for num_2: 30\n",
      "Division Result: 60.0\n"
     ]
    }
   ],
   "source": [
    "num_1 = float(input(\"Enter a number for num_1: \"))\n",
    "num_2 = float(input(\"Enter a number for num_2: \"))\n",
    "answer = 0\n",
    "\n",
    "if num_1 > num_2:\n",
    "    answer = num_1 * num_2\n",
    "    print(\"Multiplication Result:\", answer)\n",
    "elif num_1 < num_2:\n",
    "    answer = num_1 / num_2\n",
    "    print(\"Division Result:\", answer)\n",
    "else:\n",
    "    answer = num_1 + num_2\n",
    "    print(\"Division Result:\", answer)    "
   ]
  },
  {
   "cell_type": "markdown",
   "metadata": {},
   "source": [
    "## 10. Control Flow - Iteration:\n",
    "* Control flow iteration refers to the process of repeatedly executing a block of code, typically within a loop, until a certain condition is met\n",
    " - i. While Loop: ubounded number of iteration\n",
    " - ii. For Loop: known number of iteration  "
   ]
  },
  {
   "cell_type": "code",
   "execution_count": 19,
   "metadata": {
    "scrolled": true
   },
   "outputs": [
    {
     "name": "stdout",
     "output_type": "stream",
     "text": [
      "You are in the Lost Forest\n",
      "****************\n",
      "****************\n",
      " :)\n",
      "****************\n",
      "****************\n",
      "Go left or right? right\n",
      "You are in the Lost Forest\n",
      "****************\n",
      "******       ***\n",
      "  (╯°□°）╯︵ ┻━┻\n",
      "****************\n",
      "****************\n",
      "Go left or right? left\n",
      "\n",
      "You got out of the Lost Forest!\n",
      "\\o/\n"
     ]
    }
   ],
   "source": [
    "n = input(\"You are in the Lost Forest\\n****************\\n****************\\n :)\\n****************\\n****************\\nGo left or right? \")\n",
    "while n == \"right\" or n == \"Right\":\n",
    "    n = input(\"You are in the Lost Forest\\n****************\\n******       ***\\n  (╯°□°）╯︵ ┻━┻\\n****************\\n****************\\nGo left or right? \")\n",
    "print(\"\\nYou got out of the Lost Forest!\\n\\o/\")"
   ]
  },
  {
   "cell_type": "code",
   "execution_count": 3,
   "metadata": {},
   "outputs": [
    {
     "name": "stdout",
     "output_type": "stream",
     "text": [
      "0\n",
      "1\n",
      "2\n",
      "3\n",
      "4\n",
      "5\n",
      "6\n",
      "7\n",
      "8\n",
      "9\n"
     ]
    }
   ],
   "source": [
    "number=0\n",
    "while number < 10:\n",
    "    print(number)\n",
    "    number=number+1"
   ]
  },
  {
   "cell_type": "code",
   "execution_count": 2,
   "metadata": {},
   "outputs": [
    {
     "name": "stdout",
     "output_type": "stream",
     "text": [
      "1\n",
      "2\n",
      "3\n",
      "4\n",
      "5\n",
      "6\n",
      "7\n",
      "8\n",
      "9\n",
      "10\n"
     ]
    }
   ],
   "source": [
    "numcount=0\n",
    "for i in range(0,10):  #range(start,stop) the start is insclusive whereas stop is exclusive or in other words stop-1\n",
    "    numcount+=1\n",
    "    print(numcount)"
   ]
  },
  {
   "cell_type": "code",
   "execution_count": 4,
   "metadata": {},
   "outputs": [
    {
     "name": "stdout",
     "output_type": "stream",
     "text": [
      "Welcome to the Enchanted Forest!\n",
      "You are about to embark on a magical adventure.\n",
      "You have five steps to explore the forest.\n",
      "Step 1: Choose your path (left/right): left\n",
      "You encountered a friendly forest creature.\n",
      "Step 2: Choose your path (left/right): right\n",
      "You found a hidden treasure chest!\n",
      "Step 3: Choose your path (left/right): right\n",
      "You found a hidden treasure chest!\n",
      "Step 4: Choose your path (left/right): left\n",
      "You encountered a friendly forest creature.\n",
      "Step 5: Choose your path (left/right): left\n",
      "You encountered a friendly forest creature.\n",
      "Congratulations! You successfully explored the Enchanted Forest.\n"
     ]
    }
   ],
   "source": [
    "print(\"Welcome to the Enchanted Forest!\")\n",
    "print(\"You are about to embark on a magical adventure.\")\n",
    "print(\"You have five steps to explore the forest.\")\n",
    "\n",
    "for step in range(1, 6):\n",
    "    choice = input(f\"Step {step}: Choose your path (left/right): \")\n",
    "    \n",
    "    if choice.lower() == \"left\": #lower() convert a string to lower case\n",
    "        print(\"You encountered a friendly forest creature.\")\n",
    "    elif choice.lower() == \"right\":\n",
    "        print(\"You found a hidden treasure chest!\")\n",
    "    else:\n",
    "        print(\"Invalid choice. You must choose 'left' or 'right'.\")\n",
    "\n",
    "print(\"Congratulations! You successfully explored the Enchanted Forest.\")"
   ]
  },
  {
   "cell_type": "code",
   "execution_count": null,
   "metadata": {},
   "outputs": [],
   "source": []
  }
 ],
 "metadata": {
  "kernelspec": {
   "display_name": "Python 3",
   "language": "python",
   "name": "python3"
  },
  "language_info": {
   "codemirror_mode": {
    "name": "ipython",
    "version": 3
   },
   "file_extension": ".py",
   "mimetype": "text/x-python",
   "name": "python",
   "nbconvert_exporter": "python",
   "pygments_lexer": "ipython3",
   "version": "3.8.5"
  }
 },
 "nbformat": 4,
 "nbformat_minor": 4
}
