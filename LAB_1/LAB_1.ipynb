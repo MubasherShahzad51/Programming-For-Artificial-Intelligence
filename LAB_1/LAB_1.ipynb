{
 "cells": [
  {
   "cell_type": "markdown",
   "id": "492b6e7f",
   "metadata": {},
   "source": [
    "# Task 1\n",
    "###### Write a Python program that asks the user for a positive integer n. Then, calculate the sum of all positive integers from 1 to n, inclusive. Display the result using an f-string.\n",
    "* this is a bullet\n"
   ]
  },
  {
   "cell_type": "code",
   "execution_count": null,
   "id": "f6644e2a",
   "metadata": {},
   "outputs": [],
   "source": [
    "num = int(input(\"Enter a positive number: \"))\n",
    "if num <= 0:\n",
    "    print(\"Please enter a positive number.\")\n",
    "else:\n",
    "    sum = 0\n",
    "    for i in range(1, num + 1):\n",
    "        sum += i\n",
    "    print(f\"The sum of positive numbers from 1 to {num} is {sum}.\")"
   ]
  },
  {
   "cell_type": "markdown",
   "id": "f405de73",
   "metadata": {},
   "source": [
    "# Task 2\n",
    "###### Write a Python program where the player explores a haunted mansion and must choose their path wisely to reach the end. Also customize the game according your imagination and give it a unique storyline."
   ]
  },
  {
   "cell_type": "code",
   "execution_count": 16,
   "id": "78d00dee",
   "metadata": {},
   "outputs": [
    {
     "name": "stdout",
     "output_type": "stream",
     "text": [
      "Welcome to the Haunted Mansion!\n",
      "Choose wisely to survive and reach to the end.\n",
      "\n",
      "There are two doors. Left and Right. Where You Want To Go? (left/right)\n",
      "right\n",
      "You discover a dining room.\n",
      "Eat the food? (yes/no)\n",
      "no\n",
      "You leave the food and continue.\n"
     ]
    }
   ],
   "source": [
    "print(\"Welcome to the Haunted Mansion!\")\n",
    "print(\"Choose wisely to survive and reach to the end.\")\n",
    "\n",
    "while True:\n",
    "    print(\"\\nThere are two doors. Left and Right. Where You Want To Go? (left/right)\")\n",
    "\n",
    "    choice = input().lower()\n",
    "\n",
    "    if choice == \"left\":\n",
    "        print(\"You find an old garage with a antique car parked there.\")\n",
    "        print(\"You want to explore it or not? (yes/no)\")\n",
    "\n",
    "        choice = input().lower()\n",
    "\n",
    "        if choice == \"yes\":\n",
    "            print(\"Then start the car and runaway. You've escaped!\")\n",
    "            break\n",
    "        else:\n",
    "            print(\"The room darkens, Vampires kill you. Game over.\")\n",
    "            break\n",
    "    elif choice == \"right\":\n",
    "        print(\"You discover a dining room.\")\n",
    "        print(\"Eat the food? (yes/no)\")\n",
    "\n",
    "        choice = input().lower()\n",
    "\n",
    "        if choice == \"yes\":\n",
    "            print(\"The food looks expired. Game over.\")\n",
    "            break\n",
    "        else:\n",
    "            print(\"You leave the food and continue.\")\n",
    "            break\n",
    "    else:\n",
    "        print(\"Invalid choice. Choose left or right.\")"
   ]
  },
  {
   "cell_type": "code",
   "execution_count": null,
   "id": "da5d926b",
   "metadata": {},
   "outputs": [],
   "source": []
  }
 ],
 "metadata": {
  "kernelspec": {
   "display_name": "Python 3 (ipykernel)",
   "language": "python",
   "name": "python3"
  },
  "language_info": {
   "codemirror_mode": {
    "name": "ipython",
    "version": 3
   },
   "file_extension": ".py",
   "mimetype": "text/x-python",
   "name": "python",
   "nbconvert_exporter": "python",
   "pygments_lexer": "ipython3",
   "version": "3.11.4"
  }
 },
 "nbformat": 4,
 "nbformat_minor": 5
}
