{
 "cells": [
  {
   "cell_type": "markdown",
   "id": "262c6f59",
   "metadata": {},
   "source": [
    "# Q1"
   ]
  },
  {
   "cell_type": "code",
   "execution_count": 21,
   "id": "39ee27b9",
   "metadata": {},
   "outputs": [
    {
     "name": "stdout",
     "output_type": "stream",
     "text": [
      "1: 1050.00\n",
      "2: 1102.50\n",
      "3: 1157.63\n",
      "4: 1215.51\n",
      "5: 1276.28\n",
      "6: 1340.10\n",
      "7: 1407.10\n",
      "8: 1477.46\n",
      "9: 1551.33\n",
      "10: 1628.89\n"
     ]
    }
   ],
   "source": [
    "person_invest = 1000\n",
    "interest_rate = 0.05\n",
    "time_period = 10\n",
    "for time_period in range(1, time_period + 1):\n",
    "    deposit_amount = person_invest * (1 + interest_rate) ** time_period\n",
    "    print(f\"{time_period}: {deposit_amount:.2f}\")\n"
   ]
  },
  {
   "cell_type": "markdown",
   "id": "618a7498",
   "metadata": {},
   "source": [
    "# Q2"
   ]
  },
  {
   "cell_type": "code",
   "execution_count": 2,
   "id": "3a4236f8",
   "metadata": {},
   "outputs": [
    {
     "name": "stdout",
     "output_type": "stream",
     "text": [
      "Welcome to the Number Guessing Game!\n",
      "Guess the number between 1 and 100. You have 10 attempts\n",
      "Guess a Number: 50\n",
      "Your Guess (50) is Too high! Previous Guess was [50] Try again.\n",
      "Guess a Number: 20\n",
      "Your Guess (20) is Too low! Previous Guess was [20] Try again.\n",
      "Guess a Number: 30\n",
      "Your Guess (30) is Too high! Previous Guess was [30] Try again.\n",
      "Guess a Number: 90\n",
      "Your Guess (90) is Too high! Previous Guess was [90] Try again.\n",
      "Guess a Number: 1\n",
      "Your Guess (1) is Too low! Previous Guess was [1] Try again.\n",
      "Guess a Number: 6\n",
      "Your Guess (6) is Too low! Previous Guess was [6] Try again.\n",
      "Guess a Number: 8\n",
      "Your Guess (8) is Too low! Previous Guess was [8] Try again.\n",
      "Guess a Number: 9\n",
      "Your Guess (9) is Too low! Previous Guess was [9] Try again.\n",
      "Guess a Number: 7\n",
      "Your Guess (7) is Too low! Previous Guess was [7] Try again.\n",
      "Guess a Number: 5\n",
      "you reached the number of attempts. Try Again\n"
     ]
    }
   ],
   "source": [
    "import random\n",
    "secret_number = random.randint(1, 100)\n",
    "\n",
    "print(\"Welcome to the Number Guessing Game!\")\n",
    "print(\"Guess the number between 1 and 100. You have 10 attempts\")\n",
    "\n",
    "number_attempts = 0\n",
    "guess_num_list= []\n",
    "while True:\n",
    "    try:\n",
    "        guess_number = int(input(\"Guess a Number: \"))\n",
    "        number_attempts += 1\n",
    "        if (number_attempts == 10):\n",
    "            print(\"you reached the number of attempts. Try Again\")\n",
    "            break\n",
    "\n",
    "        elif guess_number == secret_number:\n",
    "            print(f\"Congratulations! You guessed the correct number ({secret_number}) in {number_attempts} attempts.\")\n",
    "            break\n",
    "        elif guess_number < secret_number:\n",
    "            print(f\"Your Guess ({guess_number}) is Too low! Previous Guess was [{guess_number}] Try again.\")\n",
    "        else:\n",
    "            print(f\"Your Guess ({guess_number}) is Too high! Previous Guess was [{guess_number}] Try again.\")\n",
    "    except Error:\n",
    "        print(\"Invalid input. Please enter a valid number.\")"
   ]
  },
  {
   "cell_type": "code",
   "execution_count": null,
   "id": "9850b694",
   "metadata": {},
   "outputs": [],
   "source": []
  }
 ],
 "metadata": {
  "kernelspec": {
   "display_name": "Python 3 (ipykernel)",
   "language": "python",
   "name": "python3"
  },
  "language_info": {
   "codemirror_mode": {
    "name": "ipython",
    "version": 3
   },
   "file_extension": ".py",
   "mimetype": "text/x-python",
   "name": "python",
   "nbconvert_exporter": "python",
   "pygments_lexer": "ipython3",
   "version": "3.11.4"
  }
 },
 "nbformat": 4,
 "nbformat_minor": 5
}
