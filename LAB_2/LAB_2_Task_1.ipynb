{
 "cells": [
  {
   "cell_type": "code",
   "execution_count": 2,
   "id": "dc89590e",
   "metadata": {},
   "outputs": [
    {
     "name": "stdout",
     "output_type": "stream",
     "text": [
      "Welcome To Chatbot\n",
      "I'm here to help you. Or you may type 'bye', 'exit', or 'quit' to exit.\n",
      "User: bmw\n",
      "This is BMW Car\n",
      "I'm here to help you. Or you may type 'bye', 'exit', or 'quit' to exit.\n",
      "User: bbye\n",
      "I'm sorry, I don't understand that.\n",
      "I'm here to help you. Or you may type 'bye', 'exit', or 'quit' to exit.\n",
      "User: BYE\n",
      "Goodbye!\n"
     ]
    }
   ],
   "source": [
    "print(\"Welcome To Chatbot\")\n",
    "responses = {\n",
    "    \"bmw\": \"This is BMW Car\",\n",
    "    \"manufacturing\": \"It is manufacturing in Germany\",\n",
    "    \"help\": \"How can I assist you?\",\n",
    "}\n",
    "def response(user_input):\n",
    "    if user_input.lower() in responses:\n",
    "        return responses[user_input.lower()]\n",
    "    else:\n",
    "        return \"I'm sorry, I don't understand that. Please put correct information as given above.\"\n",
    "\n",
    "def chatbot():\n",
    "    print(\"I'm here to help you. Or you may type 'bye', 'exit', or 'quit' to exit.\")\n",
    "    \n",
    "    user_input = input(\"User: \").lower()\n",
    "\n",
    "    if user_input in ('bye', 'exit', 'quit'):\n",
    "        print(\"Goodbye!\")\n",
    "        return\n",
    "\n",
    "    response = responses.get(user_input, \"I'm sorry, I don't understand that.\")\n",
    "    print(response)\n",
    "    \n",
    "    chatbot() # recursively call\n",
    "chatbot()"
   ]
  },
  {
   "cell_type": "code",
   "execution_count": null,
   "id": "dd4e0aab",
   "metadata": {},
   "outputs": [],
   "source": []
  }
 ],
 "metadata": {
  "kernelspec": {
   "display_name": "Python 3 (ipykernel)",
   "language": "python",
   "name": "python3"
  },
  "language_info": {
   "codemirror_mode": {
    "name": "ipython",
    "version": 3
   },
   "file_extension": ".py",
   "mimetype": "text/x-python",
   "name": "python",
   "nbconvert_exporter": "python",
   "pygments_lexer": "ipython3",
   "version": "3.11.4"
  }
 },
 "nbformat": 4,
 "nbformat_minor": 5
}
