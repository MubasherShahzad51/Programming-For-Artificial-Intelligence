{
 "cells": [
  {
   "cell_type": "markdown",
   "metadata": {},
   "source": [
    "# **Task: 1**"
   ]
  },
  {
   "cell_type": "code",
   "execution_count": 1,
   "metadata": {},
   "outputs": [
    {
     "name": "stdout",
     "output_type": "stream",
     "text": [
      "Prices:  [10 20 15]\n",
      "Quantities:  [100  50  75]\n",
      "Revenues:  [1000 1000 1125]\n",
      "Revenue from Product A: $ 1000\n",
      "Revenue from Product B: $ 1000\n",
      "Revenue from Product C: $ 1125\n",
      "Total Revenue: $ 3125\n"
     ]
    }
   ],
   "source": [
    "import pandas as pd\n",
    "import numpy as np\n",
    "\n",
    "prices = (np.array([10, 20, 15]))\n",
    "print(\"Prices: \",prices)\n",
    "quantities = np.array([100, 50, 75])\n",
    "print(\"Quantities: \",quantities)\n",
    "revenues = prices * quantities\n",
    "print(\"Revenues: \",revenues)\n",
    "total_revenue = np.sum(revenues)\n",
    "\n",
    "print(\"Revenue from Product A: $\", revenues[0])\n",
    "print(\"Revenue from Product B: $\", revenues[1])\n",
    "print(\"Revenue from Product C: $\", revenues[2])\n",
    "print(\"Total Revenue: $\", total_revenue)"
   ]
  },
  {
   "cell_type": "code",
   "execution_count": null,
   "metadata": {},
   "outputs": [],
   "source": []
  }
 ],
 "metadata": {
  "kernelspec": {
   "display_name": "condaenv",
   "language": "python",
   "name": "python3"
  },
  "language_info": {
   "codemirror_mode": {
    "name": "ipython",
    "version": 3
   },
   "file_extension": ".py",
   "mimetype": "text/x-python",
   "name": "python",
   "nbconvert_exporter": "python",
   "pygments_lexer": "ipython3",
   "version": "3.11.5"
  }
 },
 "nbformat": 4,
 "nbformat_minor": 2
}
